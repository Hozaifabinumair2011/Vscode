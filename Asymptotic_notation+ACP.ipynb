{
  "nbformat": 4,
  "nbformat_minor": 0,
  "metadata": {
    "colab": {
      "provenance": [],
      "authorship_tag": "ABX9TyOssuTuVPqNryq9DhNuo2R0",
      "include_colab_link": true
    },
    "kernelspec": {
      "name": "python3",
      "display_name": "Python 3"
    },
    "language_info": {
      "name": "python"
    }
  },
  "cells": [
    {
      "cell_type": "markdown",
      "metadata": {
        "id": "view-in-github",
        "colab_type": "text"
      },
      "source": [
        "<a href=\"https://colab.research.google.com/github/Hozaifabinumair2011/Vscode/blob/main/Asymptotic_notation%2BACP.ipynb\" target=\"_parent\"><img src=\"https://colab.research.google.com/assets/colab-badge.svg\" alt=\"Open In Colab\"/></a>"
      ]
    },
    {
      "cell_type": "code",
      "execution_count": 1,
      "metadata": {
        "colab": {
          "base_uri": "https://localhost:8080/"
        },
        "id": "VxSh4OUp1K0i",
        "outputId": "d4fd08cb-3aa1-4438-b578-92c938cdfbf7"
      },
      "outputs": [
        {
          "output_type": "stream",
          "name": "stdout",
          "text": [
            "10\n",
            "1\n",
            "200\n",
            "1\n"
          ]
        }
      ],
      "source": [
        "def abc(n):\n",
        "  iteration= 0\n",
        "  print(n)\n",
        "  iteration=iteration +1\n",
        "  print(iteration)\n",
        "abc(10)\n",
        "abc(200)"
      ]
    },
    {
      "cell_type": "code",
      "source": [
        "def abc(n):\n",
        "  iteration= 0\n",
        "  for i in range(1,n+1):\n",
        "    iteration=iteration +1\n",
        "  print(iteration)\n",
        "abc(10)\n",
        "abc(200)"
      ],
      "metadata": {
        "colab": {
          "base_uri": "https://localhost:8080/"
        },
        "id": "WWpLSsly2fOt",
        "outputId": "3278a3b1-b690-43aa-dfa6-25727485df13"
      },
      "execution_count": 2,
      "outputs": [
        {
          "output_type": "stream",
          "name": "stdout",
          "text": [
            "10\n",
            "200\n"
          ]
        }
      ]
    },
    {
      "cell_type": "code",
      "source": [
        "def abc(n):\n",
        "  iteration= 0\n",
        "  for i in range(0,n):\n",
        "    for j in range(0,n):\n",
        "      print(\"*\",end=\"\")\n",
        "      iteration=iteration +1\n",
        "    print(\"\")\n",
        "  print(n,iteration)\n",
        "abc(10)\n",
        "abc(200)"
      ],
      "metadata": {
        "id": "-jxuVZ0x22s0"
      },
      "execution_count": null,
      "outputs": []
    },
    {
      "cell_type": "code",
      "source": [
        "def abc(n):\n",
        "  iteration= 1\n",
        "  for i in range(0,n):\n",
        "    for j in range(0,n):\n",
        "      print(\"#\",end=\"\")\n",
        "      iteration=iteration *i\n",
        "    print(\"\")\n",
        "  print(n,iteration)\n",
        "abc(10)\n",
        "abc(20)"
      ],
      "metadata": {
        "colab": {
          "base_uri": "https://localhost:8080/"
        },
        "id": "-VLgMVU-6snV",
        "outputId": "10a68c91-6916-4036-dd0d-57989db1d588"
      },
      "execution_count": 7,
      "outputs": [
        {
          "output_type": "stream",
          "name": "stdout",
          "text": [
            "##########\n",
            "##########\n",
            "##########\n",
            "##########\n",
            "##########\n",
            "##########\n",
            "##########\n",
            "##########\n",
            "##########\n",
            "##########\n",
            "10 0\n",
            "####################\n",
            "####################\n",
            "####################\n",
            "####################\n",
            "####################\n",
            "####################\n",
            "####################\n",
            "####################\n",
            "####################\n",
            "####################\n",
            "####################\n",
            "####################\n",
            "####################\n",
            "####################\n",
            "####################\n",
            "####################\n",
            "####################\n",
            "####################\n",
            "####################\n",
            "####################\n",
            "20 0\n"
          ]
        }
      ]
    }
  ]
}