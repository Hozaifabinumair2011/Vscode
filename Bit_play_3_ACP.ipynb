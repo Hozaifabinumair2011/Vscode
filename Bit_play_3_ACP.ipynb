{
  "nbformat": 4,
  "nbformat_minor": 0,
  "metadata": {
    "colab": {
      "provenance": [],
      "authorship_tag": "ABX9TyO3tMNeD+WiZAbXkoxtZwfX",
      "include_colab_link": true
    },
    "kernelspec": {
      "name": "python3",
      "display_name": "Python 3"
    },
    "language_info": {
      "name": "python"
    }
  },
  "cells": [
    {
      "cell_type": "markdown",
      "metadata": {
        "id": "view-in-github",
        "colab_type": "text"
      },
      "source": [
        "<a href=\"https://colab.research.google.com/github/Hozaifabinumair2011/Vscode/blob/main/Bit_play_3_ACP.ipynb\" target=\"_parent\"><img src=\"https://colab.research.google.com/assets/colab-badge.svg\" alt=\"Open In Colab\"/></a>"
      ]
    },
    {
      "cell_type": "code",
      "execution_count": 7,
      "metadata": {
        "colab": {
          "base_uri": "https://localhost:8080/"
        },
        "id": "yogbBzanlkxQ",
        "outputId": "2353bf35-dba3-45fd-8a63-943adc1f0477"
      },
      "outputs": [
        {
          "output_type": "stream",
          "name": "stdout",
          "text": [
            "Enter a for a/b : 20\n",
            "ENter b for a/b : 5\n",
            "0\n"
          ]
        }
      ],
      "source": [
        "def divide(ourdividend, ourDivisor):\n",
        "  sign = (-1 if((ourdividend < 0) ^ (ourDivisor < 0))else 1);\n",
        "  ourdividend = abs(ourdividend);\n",
        "  ourDivisor = abs(ourDivisor);\n",
        "\n",
        "  quotientNumber = 0\n",
        "  tempNumber = 0\n",
        "  for i in range(31, -1, -1):\n",
        "    if (tempNumber + (ourDivisor << i) <= ourdividend):\n",
        "      tempNumber += ourDivisor << i\n",
        "  if sign == -1:\n",
        "    quotientNumber |= 1 << i\n",
        "  return quotientNumber\n",
        "a = int(input(\"Enter a for a/b : \"))\n",
        "b = int(input(\"ENter b for a/b : \"))\n",
        "print(divide(a,b))"
      ]
    }
  ]
}