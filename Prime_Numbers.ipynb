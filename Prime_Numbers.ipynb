{
  "nbformat": 4,
  "nbformat_minor": 0,
  "metadata": {
    "colab": {
      "provenance": [],
      "authorship_tag": "ABX9TyPxhYoFB3iCiNxuWP69UPQO",
      "include_colab_link": true
    },
    "kernelspec": {
      "name": "python3",
      "display_name": "Python 3"
    },
    "language_info": {
      "name": "python"
    }
  },
  "cells": [
    {
      "cell_type": "markdown",
      "metadata": {
        "id": "view-in-github",
        "colab_type": "text"
      },
      "source": [
        "<a href=\"https://colab.research.google.com/github/Hozaifabinumair2011/Vscode/blob/main/Prime_Numbers.ipynb\" target=\"_parent\"><img src=\"https://colab.research.google.com/assets/colab-badge.svg\" alt=\"Open In Colab\"/></a>"
      ]
    },
    {
      "cell_type": "code",
      "execution_count": 6,
      "metadata": {
        "colab": {
          "base_uri": "https://localhost:8080/"
        },
        "id": "c_AmkeBgom7w",
        "outputId": "048d542e-d3a9-49f4-f8b2-306ffb51e3a7"
      },
      "outputs": [
        {
          "output_type": "stream",
          "name": "stdout",
          "text": [
            "Enter your number 17\n",
            "17 is prime\n"
          ]
        }
      ],
      "source": [
        "from math import sqrt\n",
        "number=int(input(\"Enter your number \"))\n",
        "if number>1:\n",
        "  for i in range(2,int(sqrt(number))+1):\n",
        "    if(number%i==0):\n",
        "      print(number, \"is not prime\")\n",
        "      break\n",
        "  else:\n",
        "      print(number, \"is prime\")\n",
        "else:\n",
        "  print(number, \"is not prime\")"
      ]
    },
    {
      "cell_type": "code",
      "source": [],
      "metadata": {
        "id": "VU0npq7lr83t"
      },
      "execution_count": null,
      "outputs": []
    }
  ]
}