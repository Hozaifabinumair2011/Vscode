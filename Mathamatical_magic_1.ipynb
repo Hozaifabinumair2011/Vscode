{
  "nbformat": 4,
  "nbformat_minor": 0,
  "metadata": {
    "colab": {
      "provenance": [],
      "authorship_tag": "ABX9TyP/fZ3qOuJGwW4RirS2aAeS",
      "include_colab_link": true
    },
    "kernelspec": {
      "name": "python3",
      "display_name": "Python 3"
    },
    "language_info": {
      "name": "python"
    }
  },
  "cells": [
    {
      "cell_type": "markdown",
      "metadata": {
        "id": "view-in-github",
        "colab_type": "text"
      },
      "source": [
        "<a href=\"https://colab.research.google.com/github/Hozaifabinumair2011/Vscode/blob/main/Mathamatical_magic_1.ipynb\" target=\"_parent\"><img src=\"https://colab.research.google.com/assets/colab-badge.svg\" alt=\"Open In Colab\"/></a>"
      ]
    },
    {
      "cell_type": "code",
      "execution_count": null,
      "metadata": {
        "id": "t57xkLthz0WS"
      },
      "outputs": [],
      "source": [
        "a = int(input(\"Enter a Number\"))\n",
        "result=0\n",
        "temp=a\n",
        "while temp >0:\n",
        "  digit=temp % 10\n",
        "  result=result+digit**3\n",
        "  temp=temp//10\n",
        "print(result)\n",
        "if a == result:\n",
        "  print(\"Its an armstrong number\")\n",
        "else:\n",
        "  print(\"Its not an armstrong number\")"
      ]
    },
    {
      "cell_type": "code",
      "source": [
        "def abc(number):\n",
        "  for i in range (1,number+1):\n",
        "    if number % i == 0:\n",
        "      print(i)\n",
        "number = int(input(\"Enter a Number\"))\n",
        "abc(number)"
      ],
      "metadata": {
        "colab": {
          "base_uri": "https://localhost:8080/"
        },
        "id": "75H3R_j-19xm",
        "outputId": "fdf6f7d3-b350-420e-e22d-7b9760a89781"
      },
      "execution_count": 1,
      "outputs": [
        {
          "output_type": "stream",
          "name": "stdout",
          "text": [
            "Enter a Number6\n",
            "1\n",
            "2\n",
            "3\n",
            "6\n"
          ]
        }
      ]
    }
  ]
}