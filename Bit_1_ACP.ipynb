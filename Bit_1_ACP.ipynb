{
  "nbformat": 4,
  "nbformat_minor": 0,
  "metadata": {
    "colab": {
      "provenance": [],
      "authorship_tag": "ABX9TyM3poUmzZ8jyQBvy4J8ONNO",
      "include_colab_link": true
    },
    "kernelspec": {
      "name": "python3",
      "display_name": "Python 3"
    },
    "language_info": {
      "name": "python"
    }
  },
  "cells": [
    {
      "cell_type": "markdown",
      "metadata": {
        "id": "view-in-github",
        "colab_type": "text"
      },
      "source": [
        "<a href=\"https://colab.research.google.com/github/Hozaifabinumair2011/Vscode/blob/main/Bit_1_ACP.ipynb\" target=\"_parent\"><img src=\"https://colab.research.google.com/assets/colab-badge.svg\" alt=\"Open In Colab\"/></a>"
      ]
    },
    {
      "cell_type": "code",
      "execution_count": 1,
      "metadata": {
        "colab": {
          "base_uri": "https://localhost:8080/"
        },
        "id": "QzfsV3BME86M",
        "outputId": "c2667fbc-8137-4677-8451-6a6587a7f261"
      },
      "outputs": [
        {
          "name": "stdout",
          "output_type": "stream",
          "text": [
            "Enter a Number64\n"
          ]
        },
        {
          "output_type": "execute_result",
          "data": {
            "text/plain": [
              "7"
            ]
          },
          "metadata": {},
          "execution_count": 1
        }
      ],
      "source": [
        "def abc(n):\n",
        "  count =1\n",
        "  while(n):\n",
        "    if(n&1==1):\n",
        "      break\n",
        "    count = count+1\n",
        "    n >>= 1\n",
        "  return count\n",
        "a=int(input(\"Enter a Number : \"))\n",
        "abc(a)"
      ]
    }
  ]
}