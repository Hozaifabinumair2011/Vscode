{
  "nbformat": 4,
  "nbformat_minor": 0,
  "metadata": {
    "colab": {
      "provenance": [],
      "authorship_tag": "ABX9TyM2nMW+gGyNbvAVGuuPC3xT",
      "include_colab_link": true
    },
    "kernelspec": {
      "name": "python3",
      "display_name": "Python 3"
    },
    "language_info": {
      "name": "python"
    }
  },
  "cells": [
    {
      "cell_type": "markdown",
      "metadata": {
        "id": "view-in-github",
        "colab_type": "text"
      },
      "source": [
        "<a href=\"https://colab.research.google.com/github/Hozaifabinumair2011/Vscode/blob/main/Two_odd_occuring_numbers.ipynb\" target=\"_parent\"><img src=\"https://colab.research.google.com/assets/colab-badge.svg\" alt=\"Open In Colab\"/></a>"
      ]
    },
    {
      "cell_type": "code",
      "execution_count": null,
      "metadata": {
        "id": "DQrl9loXdYMS"
      },
      "outputs": [],
      "source": [
        "def TwoOdd(arr, size):\n",
        "  xorof2 = arr[0]\n",
        "  x = 0\n",
        "  y = 0\n",
        "  SetBit = 0\n",
        "  for i in range(1,size):\n",
        "\n",
        "    xorof2 = xorof2 ^ arr[i]\n",
        "  SetBit = xorof2 & ~(xorof2-1)\n",
        "  for i in range(size):\n",
        "    if(arr[i]& SetBit):\n",
        "      x = x ^ arr[i]\n",
        "    else:\n",
        "      y = y ^ arr[i]\n",
        "\n",
        "  print(\"TwoOdd elements are\",x,\"&\",y)\n",
        "\n",
        "arr = []\n",
        "arr_size = int(input(\"Enter the size of the array\"))\n",
        "for i in range(0,arr_size):\n",
        "  z = int(input(\"Enter element\"))\n",
        "  arr.append(z)\n",
        "\n",
        "print(\"TwoOdd\")"
      ]
    }
  ]
}