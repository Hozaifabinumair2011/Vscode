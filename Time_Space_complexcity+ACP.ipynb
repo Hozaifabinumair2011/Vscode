{
  "nbformat": 4,
  "nbformat_minor": 0,
  "metadata": {
    "colab": {
      "provenance": [],
      "authorship_tag": "ABX9TyOYVzJczt0uZlDxV8vr+/Gf",
      "include_colab_link": true
    },
    "kernelspec": {
      "name": "python3",
      "display_name": "Python 3"
    },
    "language_info": {
      "name": "python"
    }
  },
  "cells": [
    {
      "cell_type": "markdown",
      "metadata": {
        "id": "view-in-github",
        "colab_type": "text"
      },
      "source": [
        "<a href=\"https://colab.research.google.com/github/Hozaifabinumair2011/Vscode/blob/main/Time_Space_complexcity%2BACP.ipynb\" target=\"_parent\"><img src=\"https://colab.research.google.com/assets/colab-badge.svg\" alt=\"Open In Colab\"/></a>"
      ]
    },
    {
      "cell_type": "code",
      "execution_count": 1,
      "metadata": {
        "colab": {
          "base_uri": "https://localhost:8080/"
        },
        "id": "u5g24GV5_Uqb",
        "outputId": "3e6162af-e5ff-4d76-916a-814a0a67a6c9"
      },
      "outputs": [
        {
          "output_type": "stream",
          "name": "stdout",
          "text": [
            "10.0\n"
          ]
        }
      ],
      "source": [
        "def abc(n):\n",
        "  return n*(n+1)/2\n",
        "print(abc(4))"
      ]
    },
    {
      "cell_type": "code",
      "source": [
        "def abc(n):\n",
        "  sum=0\n",
        "  for i in range (1,n+1):\n",
        "    sum=sum+i\n",
        "  return sum\n",
        "print(abc(4))"
      ],
      "metadata": {
        "id": "fZrrPMek_rC1"
      },
      "execution_count": null,
      "outputs": []
    },
    {
      "cell_type": "code",
      "source": [
        "def abc(n):\n",
        "  sum=0\n",
        "  for i in range (1,n+1):\n",
        "    for j in range (1,i+1):\n",
        "      sum=sum+i\n",
        "  return sum\n",
        "print(abc(4))"
      ],
      "metadata": {
        "id": "EXxn6ydr_uFU"
      },
      "execution_count": null,
      "outputs": []
    },
    {
      "cell_type": "code",
      "source": [
        "def abc(n):\n",
        "  a=1\n",
        "  for i in range (1,n+1):\n",
        "    for j in range (1,i+1):\n",
        "      a=a*i\n",
        "  return a\n",
        "print(abc(4))"
      ],
      "metadata": {
        "id": "CbPpz5yP_yrE"
      },
      "execution_count": null,
      "outputs": []
    }
  ]
}