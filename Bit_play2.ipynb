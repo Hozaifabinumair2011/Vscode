{
  "nbformat": 4,
  "nbformat_minor": 0,
  "metadata": {
    "colab": {
      "provenance": [],
      "authorship_tag": "ABX9TyOqEj9mutCNeGzRc1BeQ/bL",
      "include_colab_link": true
    },
    "kernelspec": {
      "name": "python3",
      "display_name": "Python 3"
    },
    "language_info": {
      "name": "python"
    }
  },
  "cells": [
    {
      "cell_type": "markdown",
      "metadata": {
        "id": "view-in-github",
        "colab_type": "text"
      },
      "source": [
        "<a href=\"https://colab.research.google.com/github/Hozaifabinumair2011/Vscode/blob/main/Bit_play2.ipynb\" target=\"_parent\"><img src=\"https://colab.research.google.com/assets/colab-badge.svg\" alt=\"Open In Colab\"/></a>"
      ]
    },
    {
      "cell_type": "code",
      "execution_count": null,
      "metadata": {
        "id": "IYJlWTDiPEFg"
      },
      "outputs": [],
      "source": [
        "def abc(a,b):\n",
        "  if ((a^b)!= 0):\n",
        "    print(\"Number are not equal\")\n",
        "  else:\n",
        "    print(\"Number are equal\")\n",
        "a=int(input(\"Enter a Number :\"))\n",
        "b=int(input(\"Enter a Number :\"))\n",
        "abc(a,b)"
      ]
    },
    {
      "cell_type": "code",
      "source": [
        "def abc(n):\n",
        "  result = 0\n",
        "  for i in n:\n",
        "    result = result ^ i\n",
        "  return result\n",
        "n=[]\n",
        "a=int(input(\"Enter a List size: \"))\n",
        "while(a):\n",
        "  num=int(input(\"Enter a Number: \"))\n",
        "  n.append(num)\n",
        "  a = a-1\n",
        "print(abc(n))"
      ],
      "metadata": {
        "colab": {
          "base_uri": "https://localhost:8080/"
        },
        "id": "kGpUqmDjQN8j",
        "outputId": "4368fa32-9b11-457c-cc3a-1ebe4011edf6"
      },
      "execution_count": 8,
      "outputs": [
        {
          "output_type": "stream",
          "name": "stdout",
          "text": [
            "Enter a List size: 5\n",
            "Enter a Number: 5\n",
            "Enter a Number: 6\n",
            "Enter a Number: 5\n",
            "Enter a Number: 6\n",
            "Enter a Number: 8\n",
            "8\n"
          ]
        }
      ]
    }
  ]
}