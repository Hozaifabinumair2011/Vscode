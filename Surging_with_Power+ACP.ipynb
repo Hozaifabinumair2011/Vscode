{
  "nbformat": 4,
  "nbformat_minor": 0,
  "metadata": {
    "colab": {
      "provenance": [],
      "authorship_tag": "ABX9TyPyl62DGDB20T9be07RVINN",
      "include_colab_link": true
    },
    "kernelspec": {
      "name": "python3",
      "display_name": "Python 3"
    },
    "language_info": {
      "name": "python"
    }
  },
  "cells": [
    {
      "cell_type": "markdown",
      "metadata": {
        "id": "view-in-github",
        "colab_type": "text"
      },
      "source": [
        "<a href=\"https://colab.research.google.com/github/Hozaifabinumair2011/Vscode/blob/main/Surging_with_Power%2BACP.ipynb\" target=\"_parent\"><img src=\"https://colab.research.google.com/assets/colab-badge.svg\" alt=\"Open In Colab\"/></a>"
      ]
    },
    {
      "cell_type": "code",
      "execution_count": 2,
      "metadata": {
        "colab": {
          "base_uri": "https://localhost:8080/"
        },
        "id": "TuwCCx31RWJc",
        "outputId": "03850cc6-4579-4762-e8c0-dae6c6cd71fb"
      },
      "outputs": [
        {
          "output_type": "execute_result",
          "data": {
            "text/plain": [
              "False"
            ]
          },
          "metadata": {},
          "execution_count": 2
        }
      ],
      "source": [
        "def abc(x):\n",
        "  if(x == 0):\n",
        "    return False\n",
        "  else:\n",
        "    while(x % 2 == 0):\n",
        "      x = x/2\n",
        "  return(x == 1)\n",
        "abc(2)\n",
        "abc(5)"
      ]
    },
    {
      "cell_type": "code",
      "source": [
        "def abc2(n):\n",
        "  if n<=0:\n",
        "    return False\n",
        "  return (n & (n-1)) == 0\n",
        "n=int(input(\"Enter a Number\"))\n",
        "if abc2(n):\n",
        "  print(\"The Number is power of 2\")\n",
        "else:\n",
        "  print(\"the number is not power of 2\")"
      ],
      "metadata": {
        "colab": {
          "base_uri": "https://localhost:8080/"
        },
        "id": "qsI7GNvtSeyi",
        "outputId": "d160814b-eff5-4f91-e8ef-de00d5342b33"
      },
      "execution_count": 5,
      "outputs": [
        {
          "output_type": "stream",
          "name": "stdout",
          "text": [
            "Enter a Number7\n",
            "the number is not power of 2\n"
          ]
        }
      ]
    },
    {
      "cell_type": "code",
      "source": [
        "def abc4(n):\n",
        "  count=0\n",
        "  if(n & (~(n&(n-1)))):\n",
        "    while(n>1):\n",
        "      n>>=1\n",
        "      count=count+1\n",
        "    if(count%2 == 0):\n",
        "      return True\n",
        "    else:\n",
        "      return False\n",
        "n=int(input(\"Enter a Number \"))\n",
        "if abc4(n):\n",
        "  print(\"Number is power of 4\")\n",
        "else:\n",
        "  print(\"Number is not power of 4\")"
      ],
      "metadata": {
        "colab": {
          "base_uri": "https://localhost:8080/"
        },
        "id": "y2inYG6lUYnk",
        "outputId": "d264f108-0861-4904-b9e7-963a1ef9bc15"
      },
      "execution_count": 9,
      "outputs": [
        {
          "output_type": "stream",
          "name": "stdout",
          "text": [
            "Enter a Number 9218930\n",
            "Number is not power of 4\n"
          ]
        }
      ]
    },
    {
      "cell_type": "code",
      "source": [
        "def abc8(n):\n",
        "  count=0\n",
        "  if(n & (~(n&(n-1)))):\n",
        "    while(n>1):\n",
        "      n>>=1\n",
        "      count=count+1\n",
        "    if(count%2 == 0):\n",
        "      return True\n",
        "    else:\n",
        "      return False\n",
        "n=int(input(\"Enter a Number \"))\n",
        "if abc8(n):\n",
        "  print(\"Number is power of 8\")\n",
        "else:\n",
        "  print(\"Number is not power of 8\")"
      ],
      "metadata": {
        "colab": {
          "base_uri": "https://localhost:8080/"
        },
        "id": "nYRFWcRBXnhr",
        "outputId": "1c75e7c5-ae53-480e-f5f3-9b45dcd4f6c5"
      },
      "execution_count": 15,
      "outputs": [
        {
          "output_type": "stream",
          "name": "stdout",
          "text": [
            "Enter a Number 21\n",
            "Number is power of 8\n"
          ]
        }
      ]
    }
  ]
}