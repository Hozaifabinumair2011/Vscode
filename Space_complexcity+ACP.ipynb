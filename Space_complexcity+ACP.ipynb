{
  "nbformat": 4,
  "nbformat_minor": 0,
  "metadata": {
    "colab": {
      "provenance": [],
      "authorship_tag": "ABX9TyOt4neNLZTzaWOV0wW23xyc",
      "include_colab_link": true
    },
    "kernelspec": {
      "name": "python3",
      "display_name": "Python 3"
    },
    "language_info": {
      "name": "python"
    }
  },
  "cells": [
    {
      "cell_type": "markdown",
      "metadata": {
        "id": "view-in-github",
        "colab_type": "text"
      },
      "source": [
        "<a href=\"https://colab.research.google.com/github/Hozaifabinumair2011/Vscode/blob/main/Space_complexcity%2BACP.ipynb\" target=\"_parent\"><img src=\"https://colab.research.google.com/assets/colab-badge.svg\" alt=\"Open In Colab\"/></a>"
      ]
    },
    {
      "cell_type": "code",
      "execution_count": 1,
      "metadata": {
        "colab": {
          "base_uri": "https://localhost:8080/"
        },
        "id": "gNsJAJnp7DjR",
        "outputId": "ed84fca0-55ed-4946-89c8-b4e77bc518aa"
      },
      "outputs": [
        {
          "output_type": "execute_result",
          "data": {
            "text/plain": [
              "3.0"
            ]
          },
          "metadata": {},
          "execution_count": 1
        }
      ],
      "source": [
        "def abc(n):\n",
        "  if(n>=0):\n",
        "    return n*(n+1)/2\n",
        "abc(2)"
      ]
    },
    {
      "cell_type": "code",
      "source": [
        "def abc(n):\n",
        "  sum=0\n",
        "  for i in n:\n",
        "    sum=sum+i\n",
        "  return sum\n",
        "n=[12,3,4,15]\n",
        "abc(n)"
      ],
      "metadata": {
        "colab": {
          "base_uri": "https://localhost:8080/"
        },
        "id": "EbS2gcz48Hm5",
        "outputId": "88c68046-cfa7-4712-869e-8075b33afef2"
      },
      "execution_count": 2,
      "outputs": [
        {
          "output_type": "execute_result",
          "data": {
            "text/plain": [
              "34"
            ]
          },
          "metadata": {},
          "execution_count": 2
        }
      ]
    },
    {
      "cell_type": "code",
      "source": [
        "def abc(n):\n",
        "  multiply=1\n",
        "  for i in n:\n",
        "    multiply=multiply*i\n",
        "  return multiply\n",
        "n=[3,10,17,24]\n",
        "abc(n)"
      ],
      "metadata": {
        "colab": {
          "base_uri": "https://localhost:8080/"
        },
        "id": "WPFwf89R_onD",
        "outputId": "c63e32f7-1045-48e9-bc48-f05eab6b057f"
      },
      "execution_count": 8,
      "outputs": [
        {
          "output_type": "execute_result",
          "data": {
            "text/plain": [
              "12240"
            ]
          },
          "metadata": {},
          "execution_count": 8
        }
      ]
    }
  ]
}