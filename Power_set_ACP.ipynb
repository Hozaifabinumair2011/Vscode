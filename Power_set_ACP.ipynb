{
  "nbformat": 4,
  "nbformat_minor": 0,
  "metadata": {
    "colab": {
      "provenance": [],
      "authorship_tag": "ABX9TyOTrjcCt0j+2qkwZB7g1Dpq",
      "include_colab_link": true
    },
    "kernelspec": {
      "name": "python3",
      "display_name": "Python 3"
    },
    "language_info": {
      "name": "python"
    }
  },
  "cells": [
    {
      "cell_type": "markdown",
      "metadata": {
        "id": "view-in-github",
        "colab_type": "text"
      },
      "source": [
        "<a href=\"https://colab.research.google.com/github/Hozaifabinumair2011/Vscode/blob/main/Power_set_ACP.ipynb\" target=\"_parent\"><img src=\"https://colab.research.google.com/assets/colab-badge.svg\" alt=\"Open In Colab\"/></a>"
      ]
    },
    {
      "cell_type": "code",
      "execution_count": 3,
      "metadata": {
        "colab": {
          "base_uri": "https://localhost:8080/"
        },
        "id": "o3pzj64uujQs",
        "outputId": "f9bb0998-5312-4084-d5ec-34b12c868371"
      },
      "outputs": [
        {
          "output_type": "stream",
          "name": "stdout",
          "text": [
            "Enter array size : 6\n",
            "Enter element : 1\n",
            "Enter element : 1\n",
            "Enter element : 1\n",
            "Enter element : 4\n",
            "Enter element : 8\n",
            "Enter element : 5\n",
            "\n",
            "1\n",
            "1\n",
            "11\n",
            "1\n",
            "11\n",
            "11\n",
            "111\n",
            "4\n",
            "14\n",
            "14\n",
            "114\n",
            "14\n",
            "114\n",
            "114\n",
            "1114\n",
            "8\n",
            "18\n",
            "18\n",
            "118\n",
            "18\n",
            "118\n",
            "118\n",
            "1118\n",
            "48\n",
            "148\n",
            "148\n",
            "1148\n",
            "148\n",
            "1148\n",
            "1148\n",
            "11148\n",
            "5\n",
            "15\n",
            "15\n",
            "115\n",
            "15\n",
            "115\n",
            "115\n",
            "1115\n",
            "45\n",
            "145\n",
            "145\n",
            "1145\n",
            "145\n",
            "1145\n",
            "1145\n",
            "11145\n",
            "85\n",
            "185\n",
            "185\n",
            "1185\n",
            "185\n",
            "1185\n",
            "1185\n",
            "11185\n",
            "485\n",
            "1485\n",
            "1485\n",
            "11485\n",
            "1485\n",
            "11485\n",
            "11485\n",
            "111485\n"
          ]
        }
      ],
      "source": [
        "import math\n",
        "\n",
        "def printPowerSet(set,SetSize):\n",
        "  PowerSetSize = (int) (math.pow(2, SetSize))\n",
        "  outer = 0\n",
        "  inner = 0\n",
        "\n",
        "  for outer in range(0, PowerSetSize):\n",
        "    for inner in range(0, SetSize):\n",
        "      if((outer & (1 << inner)) > 0):\n",
        "         print(set[inner], end = \"\")\n",
        "    print(\"\")\n",
        "size = int(input(\"Enter array size : \"))\n",
        "set = []\n",
        "for i in range(0,size):\n",
        "    n = int(input(\"Enter element : \"))\n",
        "    set.append(n)\n",
        "printPowerSet(set,len(set))"
      ]
    }
  ]
}