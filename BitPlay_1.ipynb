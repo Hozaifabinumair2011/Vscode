{
  "nbformat": 4,
  "nbformat_minor": 0,
  "metadata": {
    "colab": {
      "provenance": [],
      "authorship_tag": "ABX9TyOghoOKf9YyFcb5cf55LyED",
      "include_colab_link": true
    },
    "kernelspec": {
      "name": "python3",
      "display_name": "Python 3"
    },
    "language_info": {
      "name": "python"
    }
  },
  "cells": [
    {
      "cell_type": "markdown",
      "metadata": {
        "id": "view-in-github",
        "colab_type": "text"
      },
      "source": [
        "<a href=\"https://colab.research.google.com/github/Hozaifabinumair2011/Vscode/blob/main/BitPlay_1.ipynb\" target=\"_parent\"><img src=\"https://colab.research.google.com/assets/colab-badge.svg\" alt=\"Open In Colab\"/></a>"
      ]
    },
    {
      "cell_type": "code",
      "execution_count": null,
      "metadata": {
        "id": "_URA059k_e0h"
      },
      "outputs": [],
      "source": [
        "def abc(n):\n",
        "  o=0\n",
        "  z=0\n",
        "  while(n):\n",
        "    if (n & 1 == 1):\n",
        "      o = o+1\n",
        "    else:\n",
        "      z = z+1\n",
        "    n>>= 1\n",
        "  print(o,z)\n",
        "a=int(input(\"Enter a number :\"))\n",
        "abc(a)"
      ]
    },
    {
      "cell_type": "code",
      "source": [
        "def abc(number,n):\n",
        "  m = 1\n",
        "  if(n&m)==1 or (n&m)==0:\n",
        "    if number &(1<<(n-1)):\n",
        "      print(\"set\")\n",
        "    else:\n",
        "      print(\"not set\")\n",
        "number=int(input(\"Enter a Number : \"))\n",
        "n=int(input(\"Enter a Position : \"))\n",
        "abc(number,n)"
      ],
      "metadata": {
        "colab": {
          "base_uri": "https://localhost:8080/"
        },
        "id": "NxvF1WZT_mKJ",
        "outputId": "fc160b84-bd78-420f-ed0d-62bd75471d75"
      },
      "execution_count": 6,
      "outputs": [
        {
          "output_type": "stream",
          "name": "stdout",
          "text": [
            "Enter a Number : 12\n",
            "Enter a Position : 4\n",
            "set\n"
          ]
        }
      ]
    },
    {
      "cell_type": "code",
      "source": [
        "def abc(n):\n",
        "  o=0\n",
        "  z=0\n",
        "  while(n):\n",
        "    if (n & 1 == 1):\n",
        "      o = o+1\n",
        "    else:\n",
        "      z = z+1\n",
        "    n>>= 1\n",
        "  print(o,z)\n",
        "a=int(input(\"Enter a number :\"))\n",
        "abc(a)"
      ],
      "metadata": {
        "colab": {
          "base_uri": "https://localhost:8080/"
        },
        "id": "Ukyf9MgnDd-5",
        "outputId": "d0c3a618-6c51-4370-b979-525990a73104"
      },
      "execution_count": 7,
      "outputs": [
        {
          "output_type": "stream",
          "name": "stdout",
          "text": [
            "Enter a number :82\n",
            "3 4\n"
          ]
        }
      ]
    }
  ]
}