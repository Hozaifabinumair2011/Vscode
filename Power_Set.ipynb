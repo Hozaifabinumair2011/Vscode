{
  "nbformat": 4,
  "nbformat_minor": 0,
  "metadata": {
    "colab": {
      "provenance": [],
      "authorship_tag": "ABX9TyMgAe+RREhDnhGJaZyLFOHQ",
      "include_colab_link": true
    },
    "kernelspec": {
      "name": "python3",
      "display_name": "Python 3"
    },
    "language_info": {
      "name": "python"
    }
  },
  "cells": [
    {
      "cell_type": "markdown",
      "metadata": {
        "id": "view-in-github",
        "colab_type": "text"
      },
      "source": [
        "<a href=\"https://colab.research.google.com/github/Hozaifabinumair2011/Vscode/blob/main/Power_Set.ipynb\" target=\"_parent\"><img src=\"https://colab.research.google.com/assets/colab-badge.svg\" alt=\"Open In Colab\"/></a>"
      ]
    },
    {
      "cell_type": "code",
      "execution_count": 5,
      "metadata": {
        "colab": {
          "base_uri": "https://localhost:8080/"
        },
        "id": "SEF6e8ouYn3w",
        "outputId": "2b15fcb8-1e10-4dd6-c526-165587c3c652"
      },
      "outputs": [
        {
          "output_type": "stream",
          "name": "stdout",
          "text": [
            "Enter array size : 3\n",
            "Enter element : 1\n",
            "Enter element : 2\n",
            "Enter element : 3\n",
            "\n",
            "1\n",
            "2\n",
            "12\n",
            "3\n",
            "13\n",
            "23\n",
            "123\n"
          ]
        }
      ],
      "source": [
        "import math\n",
        "\n",
        "def printPowerSet(set,SetSize):\n",
        "  PowerSetSize = (int) (math.pow(2, SetSize))\n",
        "  outer = 0\n",
        "  inner = 0\n",
        "\n",
        "  for outer in range(0, PowerSetSize):\n",
        "    for inner in range(0, SetSize):\n",
        "      if((outer & (1 << inner)) > 0):\n",
        "         print(set[inner], end = \"\")\n",
        "    print(\"\")\n",
        "size = int(input(\"Enter array size : \"))\n",
        "set = []\n",
        "for i in range(0,size):\n",
        "    n = int(input(\"Enter element : \"))\n",
        "    set.append(n)\n",
        "printPowerSet(set,len(set))"
      ]
    },
    {
      "cell_type": "code",
      "source": [
        "def flips(num1,num2):\n",
        "  flip = 0\n",
        "  while (num1 > 0 or num2 > 0):\n",
        "   t1 = num1 & 1\n",
        "   t2 = num2 & 1\n",
        "   if t1 != t2:\n",
        "     flip += 1\n",
        "   num1 >>= 1\n",
        "   num2 >>= 1\n",
        "  return flip\n",
        "num1 = int(input(\"Enter a Number: \"))\n",
        "num2 = int(input(\"Enyer a Number: \"))\n",
        "print(\"Number of flips needed: \", flips(num1,num2))"
      ],
      "metadata": {
        "colab": {
          "base_uri": "https://localhost:8080/"
        },
        "id": "2Atn_bn0c0uI",
        "outputId": "3d770a05-9bf3-4a86-ef5e-d74d110a6e6f"
      },
      "execution_count": 6,
      "outputs": [
        {
          "output_type": "stream",
          "name": "stdout",
          "text": [
            "Enter a Number: 5\n",
            "Enyer a Number: 7\n",
            "Number of flips needed:  1\n"
          ]
        }
      ]
    }
  ]
}